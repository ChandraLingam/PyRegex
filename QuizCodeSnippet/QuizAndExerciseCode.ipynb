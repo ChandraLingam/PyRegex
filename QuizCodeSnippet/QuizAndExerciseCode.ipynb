{
 "cells": [
  {
   "cell_type": "markdown",
   "metadata": {},
   "source": [
    "<h1>Code Snippet for Quiz and Exercises</h1>\n",
    "\n",
    "Feel free to use this code snippet to test your pattern when working on quizzes and exercises"
   ]
  },
  {
   "cell_type": "markdown",
   "metadata": {},
   "source": [
    "## Single Line Pattern and Text"
   ]
  },
  {
   "cell_type": "code",
   "execution_count": null,
   "metadata": {},
   "outputs": [],
   "source": [
    "import re # python regex module\n",
    "\n",
    "pattern = r\"\"\n",
    "text = \"Pine-apple Juice\"\n",
    "\n",
    "print ('Pattern:',pattern)\n",
    "print ('Text:',text)\n",
    "print()\n",
    "\n",
    "match_iter = re.finditer(pattern, text)\n",
    "\n",
    "print ('Match:')\n",
    "for match in match_iter:\n",
    "    print(' ', match.group(0), 'at index:', match.start())"
   ]
  },
  {
   "cell_type": "markdown",
   "metadata": {},
   "source": [
    "## Many input items"
   ]
  },
  {
   "cell_type": "code",
   "execution_count": null,
   "metadata": {},
   "outputs": [],
   "source": [
    "import re # python regex module\n",
    "\n",
    "pattern = r\"\" # pattern\n",
    "\n",
    "test_data = [\"Av!1\",\"abcd\",\"Av&1\",\"!cA3R\"] # list of input\n",
    "\n",
    "print ('Pattern:',pattern)\n",
    "print()\n",
    "\n",
    "for text in test_data:\n",
    "    print('Text:', text)\n",
    "    match = re.search(pattern, text)\n",
    "\n",
    "    if match:\n",
    "        print(' **match**', match.group(0), 'at index:', match.start())"
   ]
  },
  {
   "cell_type": "markdown",
   "metadata": {},
   "source": [
    "## Multi-line Text Example"
   ]
  },
  {
   "cell_type": "code",
   "execution_count": null,
   "metadata": {},
   "outputs": [],
   "source": [
    "import re # python regex module\n",
    "\n",
    "pattern = r\"\"\n",
    "\n",
    "# Sample multi-line text\n",
    "text = \"\"\"exl-accord\n",
    "ex-accord\n",
    "se-camry\n",
    "xle-camry\n",
    "exl-civic\"\"\"\n",
    "\n",
    "print ('Pattern:',pattern)\n",
    "print ('Text:',text)\n",
    "print()\n",
    "\n",
    "match_iter = re.finditer(pattern, text)\n",
    "\n",
    "print ('Match:')\n",
    "for match in match_iter:\n",
    "    print(' ', match.group(0), 'at index:', match.start())"
   ]
  },
  {
   "cell_type": "markdown",
   "metadata": {},
   "source": [
    "## Named Group Capture"
   ]
  },
  {
   "cell_type": "code",
   "execution_count": null,
   "metadata": {},
   "outputs": [],
   "source": [
    "import re # python regex module\n",
    "\n",
    "pattern = r\"\"\n",
    "\n",
    "# Sample multi-line text\n",
    "text = \"\"\"interface Gi1/0/1\n",
    "vrf red\n",
    "ip address 1.1.1.1 255.255.255.0\n",
    "ip address secondary 2.2.2.2 255.255.255.0\n",
    "interface Gi1/0/2\n",
    "vrf blue\n",
    "ip address 3.3.3.3 255.255.255.0\"\"\"\n",
    "\n",
    "print ('Pattern:',pattern)\n",
    "print ('Text:',text)\n",
    "print()\n",
    "\n",
    "match_iter = re.finditer(pattern, text)\n",
    "\n",
    "print ('Match:')\n",
    "for match in match_iter:\n",
    "    # print('', match.group(0), 'at index:', match.start())\n",
    "    print('***')\n",
    "    for key,value in match.groupdict().items():\n",
    "        print('  ', key,':',value)\n",
    "    print()\n",
    "    "
   ]
  },
  {
   "cell_type": "markdown",
   "metadata": {},
   "source": [
    "## Find and Replace"
   ]
  },
  {
   "cell_type": "code",
   "execution_count": null,
   "metadata": {},
   "outputs": [],
   "source": [
    "import re # python regex module\n",
    "\n",
    "find_pattern = r\"\" # find pattern\n",
    "replacement_pattern = r\"\" # replacement pattern\n",
    "\n",
    "# Sample multi-line text\n",
    "text = \"\"\"\n",
    "movie ticket: $15, popcorn: $8\n",
    "movie ticket: €15, popcorn: €8\n",
    "movie ticket: ₹15, popcorn: ₹8\"\"\"\n",
    "\n",
    "print ('Pattern:',find_pattern)\n",
    "print ('Text:',text)\n",
    "print()\n",
    "\n",
    "new_text = re.sub(find_pattern, replacement_pattern, text)\n",
    "\n",
    "print (new_text)\n"
   ]
  },
  {
   "cell_type": "code",
   "execution_count": null,
   "metadata": {},
   "outputs": [],
   "source": []
  }
 ],
 "metadata": {
  "kernelspec": {
   "display_name": "Python 3 (ipykernel)",
   "language": "python",
   "name": "python3"
  },
  "language_info": {
   "codemirror_mode": {
    "name": "ipython",
    "version": 3
   },
   "file_extension": ".py",
   "mimetype": "text/x-python",
   "name": "python",
   "nbconvert_exporter": "python",
   "pygments_lexer": "ipython3",
   "version": "3.9.7"
  }
 },
 "nbformat": 4,
 "nbformat_minor": 1
}
