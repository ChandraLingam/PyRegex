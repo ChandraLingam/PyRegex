{
 "cells": [
  {
   "cell_type": "markdown",
   "id": "6af60843",
   "metadata": {},
   "source": [
    "## Collection of Interesting Problems from Q&A Forum"
   ]
  },
  {
   "cell_type": "code",
   "execution_count": 1,
   "id": "42070bf8",
   "metadata": {},
   "outputs": [],
   "source": [
    "import re # python regex module"
   ]
  },
  {
   "cell_type": "markdown",
   "id": "2f867303",
   "metadata": {},
   "source": [
    "### Question 1 : How to extract unit number from postal address by adil labiad"
   ]
  },
  {
   "cell_type": "markdown",
   "id": "7a5d4ff4",
   "metadata": {},
   "source": [
    "Link:  \n",
    "https://www.udemy.com/course/python-regular-expressions/learn/#questions/17554094/  \n",
    "\n",
    "*** input ***  \n",
    "5035 68th St  \n",
    "3310 B Wendy Woods Ln  \n",
    "117-2555 A Branch Rd  \n",
    "RC-123-998A Nowell St W  \n",
    "1 rue de la fontaine  \n",
    "333 RUE de la fontaine  \n",
    "   \n",
    "*** output ***  \n",
    "5035  \n",
    "3310 B  \n",
    "117-2555 A  \n",
    "RC-123-998A  \n",
    "1  \n",
    "333  "
   ]
  },
  {
   "cell_type": "markdown",
   "id": "2d8ae25c",
   "metadata": {},
   "source": [
    "### Solution\n",
    "\n",
    "- In the above example, you want to match the first word in each line \n",
    "- Followed by optional dash and word. The dash and word can repeat multiple times.\n",
    "- Followed by an optional one character code\n",
    "- You can include the case insensitive and multi-line inline options for interactive testing."
   ]
  },
  {
   "cell_type": "code",
   "execution_count": 2,
   "id": "5b606a1f",
   "metadata": {},
   "outputs": [],
   "source": [
    "pattern = r\"(?im)^\\w+(?:[-\\w]+)?(?:\\s[a-z]\\b)?\""
   ]
  },
  {
   "cell_type": "code",
   "execution_count": 3,
   "id": "520e8416",
   "metadata": {},
   "outputs": [],
   "source": [
    "text = '''5035 68th St\n",
    "3310 B Wendy Woods Ln\n",
    "117-2555 A Branch Rd\n",
    "RC-123-998A Nowell St W\n",
    "1 rue de la fontaine\n",
    "333 RUE de la fontaine'''"
   ]
  },
  {
   "cell_type": "code",
   "execution_count": 4,
   "id": "6a07a026",
   "metadata": {},
   "outputs": [
    {
     "name": "stdout",
     "output_type": "stream",
     "text": [
      "Matches\n",
      "   5035\n",
      "   3310 B\n",
      "   117-2555 A\n",
      "   RC-123-998A\n",
      "   1\n",
      "   333\n"
     ]
    }
   ],
   "source": [
    "# successful match\n",
    "match_iter = re.finditer(pattern, text)\n",
    "\n",
    "print ('Matches')\n",
    "for match in match_iter:\n",
    "    print('  ', match.group(0))"
   ]
  },
  {
   "cell_type": "markdown",
   "id": "eae4bc1e",
   "metadata": {},
   "source": [
    "### Question 2 : Unusual Behavior When Using FindAll by Israel Carrillo Becerril and Krishna Chaitanya "
   ]
  },
  {
   "cell_type": "markdown",
   "id": "4b5da720",
   "metadata": {},
   "source": [
    "https://www.udemy.com/course/python-regular-expressions/learn/#questions/16171160/\n",
    "\n",
    "This is a python regex module specific issue\n",
    "\n",
    "In the below code, the pattern looks for car or carpet. \n",
    "\n",
    "However, the findall method returns only  ['pet', '']. \n",
    "\n",
    "Why is findall not returning car and carpet as the matches? \n",
    "\n",
    "The finditer method correctly returns car and carpet as the matching values. \n",
    "\n",
    "What is causing this inconsistent behavior?"
   ]
  },
  {
   "cell_type": "code",
   "execution_count": 6,
   "id": "6cf3dadd",
   "metadata": {},
   "outputs": [],
   "source": [
    "text = \"carpet and car\"\n",
    "\n",
    "pattern = r\"car(pet)?\""
   ]
  },
  {
   "cell_type": "code",
   "execution_count": 8,
   "id": "6c081208",
   "metadata": {},
   "outputs": [
    {
     "name": "stdout",
     "output_type": "stream",
     "text": [
      "*** findall ***\n",
      "['pet', '']\n"
     ]
    }
   ],
   "source": [
    "# findall\n",
    "\n",
    "print('*** findall ***')\n",
    "match = re.findall(pattern,text)\n",
    "\n",
    "if match:\n",
    "  print(match)\n",
    "else:\n",
    "  print(\"No match\")"
   ]
  },
  {
   "cell_type": "code",
   "execution_count": 10,
   "id": "501a8700",
   "metadata": {},
   "outputs": [
    {
     "name": "stdout",
     "output_type": "stream",
     "text": [
      "*** finditer - correctly matches carpet and car ***\n",
      "Matches\n",
      "   carpet\n",
      "   car\n"
     ]
    }
   ],
   "source": [
    "print('*** finditer - correctly matches carpet and car ***')\n",
    "\n",
    "match_iter = re.finditer(pattern, text)\n",
    "\n",
    "print ('Matches')\n",
    "for match in match_iter:\n",
    "    print('  ', match.group(0))"
   ]
  },
  {
   "cell_type": "markdown",
   "id": "52d719c6",
   "metadata": {},
   "source": [
    "### Solution\n",
    "\n",
    "Interesting issue.  I had to refer to documentation to see what is going on. \n",
    "\n",
    "https://docs.python.org/3/library/re.html\n",
    "\n",
    "Looks like findall returns only the strings that match the capturing group.  \n",
    "\n",
    "\"The result depends on the number of capturing groups in the pattern. If there are no groups, return a list of strings matching the whole pattern. If there is exactly one group, return a list of strings matching that group. If multiple groups are present, return a list of tuples of strings matching the groups. Non-capturing groups do not affect the form of the result.\"\n",
    "\n",
    "So, once I modified the group as non-capturing, it worked. Very weird behavior!  Here is the updated pattern"
   ]
  },
  {
   "cell_type": "code",
   "execution_count": 11,
   "id": "372bbcf3",
   "metadata": {},
   "outputs": [],
   "source": [
    "text = \"carpet and car\"\n",
    "\n",
    "pattern = r\"car(?:pet)?\""
   ]
  },
  {
   "cell_type": "code",
   "execution_count": 13,
   "id": "bc7efdc3",
   "metadata": {},
   "outputs": [
    {
     "name": "stdout",
     "output_type": "stream",
     "text": [
      "*** findall - non capturing groups***\n",
      "['carpet', 'car']\n"
     ]
    }
   ],
   "source": [
    "# findall\n",
    "\n",
    "print('*** findall - non capturing groups***')\n",
    "match = re.findall(pattern,text)\n",
    "\n",
    "if match:\n",
    "  print(match)\n",
    "else:\n",
    "  print(\"No match\")"
   ]
  },
  {
   "cell_type": "markdown",
   "id": "0124840f",
   "metadata": {},
   "source": [
    "### Question 3 (from AWS Machine Learning Course): How to split results returned by sagemaker endpoint. Results contain comma and newline as separators\n",
    "\n",
    "Input 1: b\"2.3,1.9,15.01,0.95\"  \n",
    "Input 2: b'2.3\\n1.9\\n15.01\\n0.95'  \n",
    "Input 3: b'2.3,\\n1.9\\n,15.01,\\n0.95'  \n",
    "  \n",
    "Output:  \n",
    "2.3  \n",
    "1.9  \n",
    "15.01  \n",
    "0.95  "
   ]
  },
  {
   "cell_type": "code",
   "execution_count": 8,
   "id": "b7cad2a4",
   "metadata": {},
   "outputs": [
    {
     "name": "stdout",
     "output_type": "stream",
     "text": [
      "['2.3', '1.9', '15.01', '0.95']\n",
      "['2.3', '1.9', '15.01', '0.95']\n",
      "['0.3', '1.9', '15.01', '0.95']\n"
     ]
    }
   ],
   "source": [
    "import re # python regex module\n",
    "\n",
    "inputFormats = [b\"2.3,1.9,15.01,0.95\", \n",
    "                b'2.3\\n1.9\\n15.01\\n0.95', \n",
    "                b\"0.3,\\n1.9\\n,15.01,\\n0.95\"]\n",
    "\n",
    "# pattern looks for one or more of non-numeric characters\n",
    "pattern = r'[^0-9.]+'\n",
    "\n",
    "for s in inputFormats:\n",
    "   print(re.split(pattern,s.decode()))"
   ]
  },
  {
   "cell_type": "code",
   "execution_count": null,
   "id": "48b0ef70",
   "metadata": {},
   "outputs": [],
   "source": []
  }
 ],
 "metadata": {
  "kernelspec": {
   "display_name": "Python 3 (ipykernel)",
   "language": "python",
   "name": "python3"
  },
  "language_info": {
   "codemirror_mode": {
    "name": "ipython",
    "version": 3
   },
   "file_extension": ".py",
   "mimetype": "text/x-python",
   "name": "python",
   "nbconvert_exporter": "python",
   "pygments_lexer": "ipython3",
   "version": "3.9.7"
  }
 },
 "nbformat": 4,
 "nbformat_minor": 5
}
