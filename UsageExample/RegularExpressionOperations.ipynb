{
 "cells": [
  {
   "cell_type": "markdown",
   "metadata": {},
   "source": [
    "<h1>Introduction to Python Regex Module</h1>\n",
    "In this notebook, we explore regex module functions and capabilities<br>\n",
    "https://docs.python.org/3/library/re.html"
   ]
  },
  {
   "cell_type": "code",
   "execution_count": null,
   "metadata": {},
   "outputs": [],
   "source": [
    "import re # python regex module"
   ]
  },
  {
   "cell_type": "markdown",
   "metadata": {},
   "source": [
    "<h2>Raw String and Regular String</h2>\n",
    "Always use Raw string for Regex Patterns"
   ]
  },
  {
   "cell_type": "code",
   "execution_count": null,
   "metadata": {},
   "outputs": [],
   "source": [
    "# regular string.  embedded special characters are intrepreted by python\n",
    "s = 'a\\tb'\n",
    "\n",
    "# raw string. python does not interpret the content of the string. \n",
    "# USE RAW STRING FOR REGEX PATTERNS\n",
    "sr = r'a\\tb' \n",
    "\n",
    "print('regular string:', s)\n",
    "print()\n",
    "print('raw string:', sr)"
   ]
  },
  {
   "cell_type": "markdown",
   "metadata": {},
   "source": [
    "<h2>re.match - Find first match</h2>\n",
    "Find match at the beginning of a string<br>\n",
    "Useful for strict validation - for example, validating input from users"
   ]
  },
  {
   "cell_type": "code",
   "execution_count": null,
   "metadata": {},
   "outputs": [],
   "source": [
    "pattern = r\"\\d+\" # \\d = digit. + = one or more.  This pattern matches one or more digits\n",
    "\n",
    "text = \"42 is my lucky number\"\n",
    "\n",
    "match = re.match(pattern,text)\n",
    "\n",
    "# check if match was successful\n",
    "if match:\n",
    "    print (match.group(0))\n",
    "else:\n",
    "    print (\"No match\")                          "
   ]
  },
  {
   "cell_type": "code",
   "execution_count": null,
   "metadata": {},
   "outputs": [],
   "source": [
    "pattern = r\"\\d+\" # \\d = digit. + = one or more.  This pattern matches one or more digits\n",
    "\n",
    "# number is not at the beginning. So, this match will fail\n",
    "text = \"my lucky number is 42\"\n",
    "\n",
    "match = re.match(pattern, text)\n",
    "\n",
    "if match:\n",
    "    print(match.group(0))\n",
    "else:\n",
    "    print(\"No Match\")      "
   ]
  },
  {
   "cell_type": "markdown",
   "metadata": {},
   "source": [
    "<h3>input validation</h3>"
   ]
  },
  {
   "cell_type": "code",
   "execution_count": null,
   "metadata": {},
   "outputs": [],
   "source": [
    "def is_integer(text):\n",
    "    # Pattern 1\n",
    "    # \\d = digit\n",
    "    # \\d+ = one or more digits\n",
    "    # pattern = r\"\\d+\" \n",
    "    \n",
    "    # Pattern 2\n",
    "    # $ = end of string or line\n",
    "    # one or more digits. followed by end of string or line    \n",
    "    # not cross-platform. works only with match method\n",
    "    # pattern = r\"\\d+$\"\n",
    "        \n",
    "    # Pattern 3\n",
    "    # start of string or line. followed by one or more digits. followed by end of string or line\n",
    "    # ^ = start of string or line.\n",
    "    # $ = end of string or line\n",
    "    # cross-platform\n",
    "    pattern = r\"^\\d+$\" \n",
    "    \n",
    "    match = re.match(pattern, text)\n",
    "    \n",
    "    if match:\n",
    "        return True\n",
    "    else:\n",
    "        return False"
   ]
  },
  {
   "cell_type": "code",
   "execution_count": null,
   "metadata": {},
   "outputs": [],
   "source": [
    "is_integer(\"1234\")"
   ]
  },
  {
   "cell_type": "markdown",
   "metadata": {},
   "source": [
    "<h3>Unit Test</h3>"
   ]
  },
  {
   "cell_type": "code",
   "execution_count": null,
   "metadata": {},
   "outputs": [],
   "source": [
    "def test_is_integer():\n",
    "    pass_list = [\"123\",\"456\",\"900\",\"0991\"]\n",
    "    fail_list = [\"a123\",\"124a\",\"1 2 3\",\"1\\t2\",\" 12\",\"45 \"]\n",
    "    \n",
    "    for text in pass_list:\n",
    "        if not is_integer(text):\n",
    "            print('\\tFailed to detect an integer',text)\n",
    "    \n",
    "    for text in fail_list:\n",
    "        if is_integer(text):\n",
    "            print('\\tIncorrectly classified as an integer',text)\n",
    "    \n",
    "    print('Test complete')"
   ]
  },
  {
   "cell_type": "code",
   "execution_count": null,
   "metadata": {},
   "outputs": [],
   "source": [
    "test_is_integer()"
   ]
  },
  {
   "cell_type": "markdown",
   "metadata": {},
   "source": [
    "<h2>re.search - Find the first match anywhere</h2>"
   ]
  },
  {
   "cell_type": "code",
   "execution_count": null,
   "metadata": {},
   "outputs": [],
   "source": [
    "pattern = r\"\\d+\" # one or more digits\n",
    "\n",
    "text = \"42 is my lucky number\"\n",
    "\n",
    "match = re.search(pattern,text)\n",
    "\n",
    "# check if match was successful\n",
    "if match:\n",
    "    print('Found a match:', match.group(0), 'at index:', match.start())\n",
    "else:\n",
    "    print (\"No match\")      "
   ]
  },
  {
   "cell_type": "code",
   "execution_count": null,
   "metadata": {},
   "outputs": [],
   "source": [
    "pattern = r\"\\d+\" # \\d = digit. + = one or more.  This pattern matches one or more digits\n",
    "\n",
    "# search method will look for the first match anywhere in the text\n",
    "text = \"my lucky number is 42\"\n",
    "\n",
    "match = re.search(pattern, text)\n",
    "\n",
    "if match:\n",
    "    print('Found a match:',match.group(0), 'at index:', match.start())\n",
    "else:\n",
    "    print(\"No Match\")   "
   ]
  },
  {
   "cell_type": "code",
   "execution_count": null,
   "metadata": {},
   "outputs": [],
   "source": [
    "# But, it finds only the first match in the text\n",
    "\n",
    "pattern = r\"\\d+\" # \\d = digit. + = one or more.  This pattern matches one or more digits\n",
    "\n",
    "# search method will look ONLY for the first match anywhere in the text\n",
    "text = \"my lucky numbers are 42 and 24\"\n",
    "\n",
    "match = re.search(pattern, text)\n",
    "\n",
    "if match:\n",
    "    print('Found a match:',match.group(0), 'at index:', match.start())\n",
    "else:\n",
    "    print(\"No Match\")   "
   ]
  },
  {
   "cell_type": "markdown",
   "metadata": {},
   "source": [
    "<h4>TODO: Modify is_integer to use search method</h4>"
   ]
  },
  {
   "cell_type": "markdown",
   "metadata": {},
   "source": [
    "<h2>re.findall - Find all the matches</h2>\n",
    "method returns only after scanning the entire text"
   ]
  },
  {
   "cell_type": "code",
   "execution_count": null,
   "metadata": {},
   "outputs": [],
   "source": [
    "# Find all numbers in the text\n",
    "pattern = r\"\\d+\"\n",
    "text = \"NY Postal Codes are 10001, 10002, 10003, 10004\"\n",
    "\n",
    "print ('Pattern',pattern)\n",
    "# successful match\n",
    "match = re.findall(pattern, text)\n",
    "\n",
    "if match:\n",
    "    print('Found matches:', match)\n",
    "else:\n",
    "    print(\"No Match\")     "
   ]
  },
  {
   "cell_type": "markdown",
   "metadata": {},
   "source": [
    "<h2>re.finditer - Iterator</h2>\n",
    "method returns an iterator with the first match and you have control to ask for more matches"
   ]
  },
  {
   "cell_type": "code",
   "execution_count": null,
   "metadata": {},
   "outputs": [],
   "source": [
    "pattern = r\"\\d+\"\n",
    "text = \"NY Postal Codes are 10001, 10002, 10003, 10004\"\n",
    "\n",
    "print ('Pattern',pattern)\n",
    "# successful match\n",
    "match_iter = re.finditer(pattern, text)\n",
    "\n",
    "print ('Matches')\n",
    "for match in match_iter:\n",
    "    print('\\t', match.group(0), 'at index:', match.start())"
   ]
  },
  {
   "cell_type": "markdown",
   "metadata": {},
   "source": [
    "<h2>groups - find sub matches </h2>\n",
    "group 0 = refers to the text in a string that matched the pattern<br>\n",
    "group 1..n onwards refer to the sub-groups"
   ]
  },
  {
   "cell_type": "code",
   "execution_count": null,
   "metadata": {},
   "outputs": [],
   "source": [
    "# Separate year, month and day\n",
    "# 1. pattern = r\"\\d+\"\n",
    "# 2. pattern = r\"\\d{4}\\d{2}\\d{2}\"\n",
    "# 3. pattern = r\"(\\d{4})(\\d{2})(\\d{2})\"\n",
    "\n",
    "pattern = r\"(\\d{4})(\\d{2})(\\d{2})\"\n",
    "text = \"Start Date: 20200920\"\n",
    "\n",
    "print(\"Pattern\",pattern)\n",
    "match = re.search(pattern, text)\n",
    "\n",
    "if match:\n",
    "    print('Found a match', match.group(0), 'at index:', match.start())\n",
    "    \n",
    "    print('Groups', match.groups())\n",
    "        \n",
    "    for idx, value in enumerate(match.groups()):\n",
    "        print ('\\tGroup', idx+1, value, '\\tat index', match.start(idx+1))\n",
    "        \n",
    "else:\n",
    "    print(\"No Match\")"
   ]
  },
  {
   "cell_type": "markdown",
   "metadata": {},
   "source": [
    "<h3>named groups</h3>"
   ]
  },
  {
   "cell_type": "code",
   "execution_count": null,
   "metadata": {},
   "outputs": [],
   "source": [
    "# Separate year, month and day\n",
    "pattern = r\"(?P<year>\\d{4})(?P<month>\\d{2})(?P<day>\\d{2})\"\n",
    "text = \"Start Date: 20200920\"\n",
    "\n",
    "print(\"Pattern\",pattern)\n",
    "match = re.search(pattern, text)\n",
    "\n",
    "if match:\n",
    "    print('Found a match', match.group(0), 'at index:', match.start())    \n",
    "    print('\\t',match.groupdict())\n",
    "else:\n",
    "    print(\"No Match\")  "
   ]
  },
  {
   "cell_type": "markdown",
   "metadata": {},
   "source": [
    "<h3>access by group name</h3>"
   ]
  },
  {
   "cell_type": "code",
   "execution_count": null,
   "metadata": {},
   "outputs": [],
   "source": [
    "# Separate year, month and day\n",
    "pattern = r\"(?P<year>\\d{4})(?P<month>\\d{2})(?P<day>\\d{2})\"\n",
    "text = \"Start Date: 20200920\"\n",
    "\n",
    "print(\"Pattern\",pattern)\n",
    "match = re.search(pattern, text)\n",
    "\n",
    "if match:\n",
    "    print('Found a match', match.group(0), 'at index:', match.start())    \n",
    "    print('\\tYear:',match.group('year'))\n",
    "    print('\\tMonth:',match.group('month'))\n",
    "    print('\\tDay:',match.group('day'))    \n",
    "else:\n",
    "    print(\"No Match\") "
   ]
  },
  {
   "cell_type": "markdown",
   "metadata": {},
   "source": [
    "<h2>re.sub - find and replace</h2>"
   ]
  },
  {
   "cell_type": "markdown",
   "metadata": {},
   "source": [
    "<h3>two patterns: one to find the text and another pattern with replacement text</h3>"
   ]
  },
  {
   "cell_type": "code",
   "execution_count": null,
   "metadata": {},
   "outputs": [],
   "source": [
    "# Format date\n",
    "#  20200920 => 09-20-2020\n",
    "\n",
    "pattern = r\"(?P<year>\\d{4})(?P<month>\\d{2})(?P<day>\\d{2})\"\n",
    "text = \"Start Date: 20200920, End Date: 20210920\"\n",
    "\n",
    "# substitute with value space dollars\n",
    "replacement_pattern = r\"\\g<month>-\\g<day>-\\g<year>\"\n",
    "\n",
    "print ('original text\\t', text)\n",
    "print()\n",
    "\n",
    "# find and replace\n",
    "new_text= re.sub(pattern, replacement_pattern, text)\n",
    "\n",
    "print('new text\\t', new_text)"
   ]
  },
  {
   "cell_type": "code",
   "execution_count": null,
   "metadata": {},
   "outputs": [],
   "source": [
    "# Make this an exercise\n",
    "# find one or more digits followed by the word dollars. capture the digits in value group\n",
    "pattern = r\"(?P<value>\\d+)dollars\" \n",
    "\n",
    "text = \"movie ticket: 15dollars. popcorn: 8dollars\"\n",
    "\n",
    "# substitute with value space dollars\n",
    "replacement_pattern = r\"\\g<value> dollars\"\n",
    "\n",
    "print ('original text\\t', text)\n",
    "print()\n",
    "\n",
    "# find and replace\n",
    "new_text= re.sub(pattern, replacement_pattern, text)\n",
    "\n",
    "print('new text\\t', new_text)"
   ]
  },
  {
   "cell_type": "markdown",
   "metadata": {},
   "source": [
    "<h3>custom function to generate replacement text</h3>"
   ]
  },
  {
   "cell_type": "code",
   "execution_count": null,
   "metadata": {},
   "outputs": [],
   "source": [
    "# Format \n",
    "#   20200920 => Sep-20-2020\n",
    "import datetime"
   ]
  },
  {
   "cell_type": "code",
   "execution_count": null,
   "metadata": {},
   "outputs": [],
   "source": [
    "def format_date(match):   \n",
    "    in_date = match.groupdict()\n",
    "    \n",
    "    year = int(in_date['year'])\n",
    "    month = int(in_date['month'])\n",
    "    day = int(in_date['day'])\n",
    "    \n",
    "    #https://docs.python.org/3/library/datetime.html#strftime-strptime-behavior\n",
    "    return datetime.date(year,month,day).strftime('%b-%d-%Y')"
   ]
  },
  {
   "cell_type": "code",
   "execution_count": null,
   "metadata": {},
   "outputs": [],
   "source": [
    "# Format date\n",
    "pattern = r\"(?P<year>\\d{4})(?P<month>\\d{2})(?P<day>\\d{2})\"\n",
    "text = \"Start Date: 20200920, End Date: 20210920\"\n",
    "\n",
    "print ('original text\\t', text)\n",
    "print()\n",
    "\n",
    "# find and replace\n",
    "new_text= re.sub(pattern, format_date, text)\n",
    "\n",
    "print('new text\\t', new_text)"
   ]
  },
  {
   "cell_type": "code",
   "execution_count": null,
   "metadata": {},
   "outputs": [],
   "source": [
    "# Make this an assignment\n",
    "def celsius_to_fahrenheit(match):\n",
    "    degCelsius =  float(match.group(\"celsius\"))\n",
    "    degF = 32.0 + (degCelsius * 9.0 / 5.0);\n",
    "    return '{0}°F'.format(degF);"
   ]
  },
  {
   "cell_type": "code",
   "execution_count": null,
   "metadata": {},
   "outputs": [],
   "source": [
    "def substitution_example_custom_logic():\n",
    "    pattern = r\"(?P<celsius>\\d+)\\u00B0C\"\n",
    "    text = \"Today's temperature is 25°C\"\n",
    "            \n",
    "    print ('Pattern: {0}'.format(pattern))\n",
    "    print ('Text before: {0}'.format(text))\n",
    "        \n",
    "    new_text = re.sub(pattern, celsius_to_fahrenheit, text)\n",
    "    \n",
    "    print('Text after:  {0}'.format(new_text))"
   ]
  },
  {
   "cell_type": "code",
   "execution_count": null,
   "metadata": {},
   "outputs": [],
   "source": [
    "substitution_example_custom_logic()"
   ]
  },
  {
   "cell_type": "markdown",
   "metadata": {},
   "source": [
    "<h2>re.split - split text based on specified pattern</h2>"
   ]
  },
  {
   "cell_type": "code",
   "execution_count": null,
   "metadata": {},
   "outputs": [],
   "source": [
    "pattern = r\",\"\n",
    "\n",
    "text = \"a-c,x,y,1\"\n",
    "\n",
    "re.split(pattern,text)"
   ]
  }
 ],
 "metadata": {
  "kernelspec": {
   "display_name": "Python 3 (ipykernel)",
   "language": "python",
   "name": "python3"
  },
  "language_info": {
   "codemirror_mode": {
    "name": "ipython",
    "version": 3
   },
   "file_extension": ".py",
   "mimetype": "text/x-python",
   "name": "python",
   "nbconvert_exporter": "python",
   "pygments_lexer": "ipython3",
   "version": "3.9.7"
  }
 },
 "nbformat": 4,
 "nbformat_minor": 1
}
